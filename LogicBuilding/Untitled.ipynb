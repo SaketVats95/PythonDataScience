{
 "cells": [
  {
   "cell_type": "code",
   "execution_count": 1,
   "metadata": {},
   "outputs": [],
   "source": [
    "#generate random and save in list\n",
    "import random\n",
    "arr_numbers=[]\n",
    "for i in range(100):\n",
    "    arr_numbers.append(random.randint(1,11))"
   ]
  },
  {
   "cell_type": "code",
   "execution_count": 2,
   "metadata": {},
   "outputs": [
    {
     "name": "stdout",
     "output_type": "stream",
     "text": [
      "[8, 2, 6, 5, 4, 5, 4, 9, 4, 1, 8, 4, 1, 9, 7, 2, 8, 6, 7, 6, 6, 10, 6, 10, 9, 8, 5, 10, 1, 5, 11, 8, 3, 9, 4, 9, 1, 1, 5, 9, 2, 8, 8, 3, 1, 1, 2, 9, 8, 11, 11, 8, 7, 10, 9, 4, 11, 8, 3, 8, 5, 3, 1, 9, 6, 4, 6, 6, 11, 2, 3, 7, 8, 11, 6, 1, 3, 11, 7, 2, 5, 4, 6, 2, 3, 7, 10, 11, 2, 2, 2, 1, 11, 8, 2, 3, 7, 9, 4, 5]\n"
     ]
    }
   ],
   "source": [
    "print(arr_numbers)"
   ]
  },
  {
   "cell_type": "code",
   "execution_count": 3,
   "metadata": {},
   "outputs": [
    {
     "name": "stdout",
     "output_type": "stream",
     "text": [
      "{1, 2, 3, 4, 5, 6, 7, 8, 9, 10, 11}\n"
     ]
    }
   ],
   "source": [
    "set_num=set(arr_numbers)\n",
    "print(set_num)"
   ]
  },
  {
   "cell_type": "code",
   "execution_count": 10,
   "metadata": {},
   "outputs": [
    {
     "name": "stdout",
     "output_type": "stream",
     "text": [
      "1\n",
      "2\n",
      "3\n",
      "4\n",
      "5\n"
     ]
    }
   ],
   "source": [
    "# list of vowels\n",
    "vowels = ['a', 'e', 'i', 'o', 'u']\n",
    "\n",
    "vowelsIter = iter(set_num)\n",
    "\n",
    "# prints 'a'\n",
    "print(next(vowelsIter))\n",
    "\n",
    "# prints 'e'\n",
    "print(next(vowelsIter))\n",
    "\n",
    "# prints 'i'\n",
    "print(next(vowelsIter))\n",
    "\n",
    "# prints 'o'\n",
    "print(next(vowelsIter))\n",
    "\n",
    "# prints 'u'\n",
    "print(next(vowelsIter))"
   ]
  },
  {
   "cell_type": "code",
   "execution_count": 1,
   "metadata": {},
   "outputs": [
    {
     "ename": "SyntaxError",
     "evalue": "invalid syntax (<ipython-input-1-8957b221a110>, line 1)",
     "output_type": "error",
     "traceback": [
      "\u001b[1;36m  File \u001b[1;32m\"<ipython-input-1-8957b221a110>\"\u001b[1;36m, line \u001b[1;32m1\u001b[0m\n\u001b[1;33m    https://pypi.org/project/youtube-transcript-api/\u001b[0m\n\u001b[1;37m           ^\u001b[0m\n\u001b[1;31mSyntaxError\u001b[0m\u001b[1;31m:\u001b[0m invalid syntax\n"
     ]
    }
   ],
   "source": [
    "https://pypi.org/project/youtube-transcript-api/"
   ]
  },
  {
   "cell_type": "code",
   "execution_count": null,
   "metadata": {},
   "outputs": [],
   "source": [
    "# Python program to illustrate the concept \n",
    "# of threading \n",
    "# importing the threading module \n",
    "import threading \n",
    "\n",
    "def print_cube(num): \n",
    "\t\"\"\" \n",
    "\tfunction to print cube of given num \n",
    "\t\"\"\"\n",
    "\tf=open('cube.txt','w+')\n",
    "\t#f.write(\"Cube: {}\\n\".format({pow(i,3) for i in range(num)}))\n",
    "\tcub=[pow(i,3) for i in range(num)]\n",
    "    for i in cub:\n",
    "        f.write(str(i)+\",\")\n",
    "\tf.close()\n",
    "\tprint(\"Cube Completed\")\n",
    "\n",
    "def print_pow5(num): \n",
    "\t\"\"\" \n",
    "\tfunction to print square of given num \n",
    "\t\"\"\"\n",
    "\tf=open('pow5.txt','w+')\n",
    "\tcub=[pow(i,5) for i in range(num)]\n",
    "\tfor i in cub:\n",
    "            f.write(str(i)+\",\")\n",
    "\tf.close()\n",
    "\t#f.write(\"Power 5: {}\\n\".format({pow(i,5) for i in range(num)}))\n",
    "\tprint(\"Power 5 Completed\")\n",
    "\n",
    "if __name__ == \"__main__\": \n",
    "\t# creating thread\n",
    "\tnum=100\n",
    "\tt1 = threading.Thread(target=print_cube, args=(num,)) \n",
    "\tt2 = threading.Thread(target=print_pow5, args=(num,)) \n",
    "\n",
    "\t# starting thread 1 \n",
    "\tt1.start() \n",
    "\t# starting thread 2 \n",
    "\tt2.start() \n",
    "\n",
    "\t# wait until thread 1 is completely executed \n",
    "\tt1.join()\n",
    "\t# wait until thread 2 is completely executed \n",
    "\tt2.join()\n",
    "\n",
    "\t# both threads completely executed \n",
    "\tprint(\"Done!\") \n"
   ]
  }
 ],
 "metadata": {
  "kernelspec": {
   "display_name": "Python 3",
   "language": "python",
   "name": "python3"
  },
  "language_info": {
   "codemirror_mode": {
    "name": "ipython",
    "version": 3
   },
   "file_extension": ".py",
   "mimetype": "text/x-python",
   "name": "python",
   "nbconvert_exporter": "python",
   "pygments_lexer": "ipython3",
   "version": "3.7.3"
  }
 },
 "nbformat": 4,
 "nbformat_minor": 2
}
