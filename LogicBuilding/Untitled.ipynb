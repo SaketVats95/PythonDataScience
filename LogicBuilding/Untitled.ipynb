{
 "cells": [
  {
   "cell_type": "code",
   "execution_count": 1,
   "metadata": {},
   "outputs": [],
   "source": [
    "#generate random and save in list\n",
    "import random\n",
    "arr_numbers=[]\n",
    "for i in range(100):\n",
    "    arr_numbers.append(random.randint(1,11))"
   ]
  },
  {
   "cell_type": "code",
   "execution_count": 2,
   "metadata": {},
   "outputs": [
    {
     "name": "stdout",
     "output_type": "stream",
     "text": [
      "[8, 2, 6, 5, 4, 5, 4, 9, 4, 1, 8, 4, 1, 9, 7, 2, 8, 6, 7, 6, 6, 10, 6, 10, 9, 8, 5, 10, 1, 5, 11, 8, 3, 9, 4, 9, 1, 1, 5, 9, 2, 8, 8, 3, 1, 1, 2, 9, 8, 11, 11, 8, 7, 10, 9, 4, 11, 8, 3, 8, 5, 3, 1, 9, 6, 4, 6, 6, 11, 2, 3, 7, 8, 11, 6, 1, 3, 11, 7, 2, 5, 4, 6, 2, 3, 7, 10, 11, 2, 2, 2, 1, 11, 8, 2, 3, 7, 9, 4, 5]\n"
     ]
    }
   ],
   "source": [
    "print(arr_numbers)"
   ]
  },
  {
   "cell_type": "code",
   "execution_count": 3,
   "metadata": {},
   "outputs": [
    {
     "name": "stdout",
     "output_type": "stream",
     "text": [
      "{1, 2, 3, 4, 5, 6, 7, 8, 9, 10, 11}\n"
     ]
    }
   ],
   "source": [
    "set_num=set(arr_numbers)\n",
    "print(set_num)"
   ]
  },
  {
   "cell_type": "code",
   "execution_count": 10,
   "metadata": {},
   "outputs": [
    {
     "name": "stdout",
     "output_type": "stream",
     "text": [
      "1\n",
      "2\n",
      "3\n",
      "4\n",
      "5\n"
     ]
    }
   ],
   "source": [
    "# list of vowels\n",
    "vowels = ['a', 'e', 'i', 'o', 'u']\n",
    "\n",
    "vowelsIter = iter(set_num)\n",
    "\n",
    "# prints 'a'\n",
    "print(next(vowelsIter))\n",
    "\n",
    "# prints 'e'\n",
    "print(next(vowelsIter))\n",
    "\n",
    "# prints 'i'\n",
    "print(next(vowelsIter))\n",
    "\n",
    "# prints 'o'\n",
    "print(next(vowelsIter))\n",
    "\n",
    "# prints 'u'\n",
    "print(next(vowelsIter))"
   ]
  },
  {
   "cell_type": "code",
   "execution_count": null,
   "metadata": {},
   "outputs": [],
   "source": [
    "https://pypi.org/project/youtube-transcript-api/"
   ]
  }
 ],
 "metadata": {
  "kernelspec": {
   "display_name": "Python 3",
   "language": "python",
   "name": "python3"
  },
  "language_info": {
   "codemirror_mode": {
    "name": "ipython",
    "version": 3
   },
   "file_extension": ".py",
   "mimetype": "text/x-python",
   "name": "python",
   "nbconvert_exporter": "python",
   "pygments_lexer": "ipython3",
   "version": "3.7.3"
  }
 },
 "nbformat": 4,
 "nbformat_minor": 2
}
