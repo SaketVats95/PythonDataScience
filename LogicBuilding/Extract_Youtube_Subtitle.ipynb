{
 "cells": [
  {
   "cell_type": "markdown",
   "metadata": {},
   "source": [
    "# Extracting subtile from youtube"
   ]
  },
  {
   "cell_type": "code",
   "execution_count": 1,
   "metadata": {},
   "outputs": [
    {
     "name": "stdout",
     "output_type": "stream",
     "text": [
      "Collecting youtube-transcript-api\n",
      "  Downloading https://files.pythonhosted.org/packages/02/75/4056d5df84c04f5e1a86f8d9e74720f30d9e9e6f47d652328a29081bddac/youtube_transcript_api-0.1.4-py3-none-any.whl\n",
      "Requirement already satisfied: requests in c:\\users\\saket\\anaconda3\\lib\\site-packages (from youtube-transcript-api) (2.21.0)\n",
      "Requirement already satisfied: chardet<3.1.0,>=3.0.2 in c:\\users\\saket\\anaconda3\\lib\\site-packages (from requests->youtube-transcript-api) (3.0.4)\n",
      "Requirement already satisfied: certifi>=2017.4.17 in c:\\users\\saket\\anaconda3\\lib\\site-packages (from requests->youtube-transcript-api) (2019.3.9)\n",
      "Requirement already satisfied: urllib3<1.25,>=1.21.1 in c:\\users\\saket\\anaconda3\\lib\\site-packages (from requests->youtube-transcript-api) (1.24.1)\n",
      "Requirement already satisfied: idna<2.9,>=2.5 in c:\\users\\saket\\anaconda3\\lib\\site-packages (from requests->youtube-transcript-api) (2.8)\n",
      "Installing collected packages: youtube-transcript-api\n",
      "Successfully installed youtube-transcript-api-0.1.4\n",
      "Note: you may need to restart the kernel to use updated packages.\n"
     ]
    }
   ],
   "source": [
    "pip install youtube-transcript-api"
   ]
  },
  {
   "cell_type": "code",
   "execution_count": null,
   "metadata": {},
   "outputs": [],
   "source": []
  }
 ],
 "metadata": {
  "kernelspec": {
   "display_name": "Python 3",
   "language": "python",
   "name": "python3"
  },
  "language_info": {
   "codemirror_mode": {
    "name": "ipython",
    "version": 3
   },
   "file_extension": ".py",
   "mimetype": "text/x-python",
   "name": "python",
   "nbconvert_exporter": "python",
   "pygments_lexer": "ipython3",
   "version": "3.7.3"
  }
 },
 "nbformat": 4,
 "nbformat_minor": 2
}
